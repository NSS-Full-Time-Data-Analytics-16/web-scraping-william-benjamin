{
 "cells": [
  {
   "cell_type": "code",
   "execution_count": 1,
   "id": "65f56a31-2cf8-4e37-ba3b-73746bb4a692",
   "metadata": {},
   "outputs": [],
   "source": [
    "# header? section\n",
    "\n",
    "import requests\n",
    "from bs4 import BeautifulSoup as BS\n",
    "import pandas as pd\n",
    "#from io import StringIO"
   ]
  },
  {
   "cell_type": "markdown",
   "id": "c860b801-143c-453c-b266-6dea9afff992",
   "metadata": {},
   "source": [
    "# Webscraping\n",
    "---\n",
    "In this exercise, you'll practice using BeautifulSoup to parse the content of a web page. The page that you'll be scraping, https://realpython.github.io/fake-jobs/, contains job listings. Your job is to extract the data on each job and convert into a pandas DataFrame."
   ]
  },
  {
   "cell_type": "markdown",
   "id": "ab4916df-c48e-43c4-a25c-818c3302aef7",
   "metadata": {},
   "source": [
    "----\n",
    "## Task 1 - GET Request -> BeautifulSoup -> Pandas DataFrame\n",
    "Start by performing a GET request on the url above  \n",
    "and convert the response into a BeautifulSoup object."
   ]
  },
  {
   "cell_type": "code",
   "execution_count": 2,
   "id": "a5a61273-9273-4f08-ba5f-450c1049739b",
   "metadata": {},
   "outputs": [
    {
     "name": "stdout",
     "output_type": "stream",
     "text": [
      "Seems good to go: 200.\n"
     ]
    }
   ],
   "source": [
    "URL = 'http://realpython.github.io/fake-jobs'\n",
    "\n",
    "response = requests.get(URL)\n",
    "if 200 == response.status_code:\n",
    "    print(f\"Seems good to go: {response.status_code}.\")\n",
    "else:\n",
    "    print(f\"Something is happening: {response.status_code}.\")"
   ]
  },
  {
   "cell_type": "code",
   "execution_count": 3,
   "id": "7337875a-7f04-4009-9c5d-05542ad2b153",
   "metadata": {},
   "outputs": [],
   "source": [
    "soup = BS(response.text)\n",
    "# print(soup.prettify())"
   ]
  },
  {
   "cell_type": "markdown",
   "id": "366bbd2a-c9bb-48a0-815a-fd048be253ea",
   "metadata": {},
   "source": [
    "### Task 1A - Find 1st Job Title\n",
    "a. Use the .find method to find the tag containing the first job title (\"Senior Python Developer\").  \n",
    "Hint: can you find a tag type and/or a class that could be helpful for extracting this information? Extract the text from this title."
   ]
  },
  {
   "cell_type": "code",
   "execution_count": 4,
   "id": "a75085b6-b44a-47fa-8bf4-27a590f54669",
   "metadata": {},
   "outputs": [
    {
     "name": "stdout",
     "output_type": "stream",
     "text": [
      "Senior Python Developer\n"
     ]
    }
   ],
   "source": [
    "print(soup.find(\"h2\").text)"
   ]
  },
  {
   "cell_type": "markdown",
   "id": "5ed6cd57-32ca-4631-96b0-587ef1e4f2ce",
   "metadata": {},
   "source": [
    "### Task - 1B All Job Titles -> List\n",
    "b. Now, use what you did for the first title, but extract the job title for all jobs on this page. Store the results in a list."
   ]
  },
  {
   "cell_type": "code",
   "execution_count": 5,
   "id": "052de4d3-55ac-4d48-b184-d286f5ee29be",
   "metadata": {},
   "outputs": [
    {
     "name": "stdout",
     "output_type": "stream",
     "text": [
      "['Senior Python Developer', 'Energy engineer', 'Legal executive', 'Fitness centre manager', 'Product manager', 'Medical technical officer', 'Physiological scientist', 'Textile designer', 'Television floor manager', 'Waste management officer', 'Software Engineer (Python)', 'Interpreter', 'Architect', 'Meteorologist', 'Audiological scientist', 'English as a second language teacher', 'Surgeon', 'Equities trader', 'Newspaper journalist', 'Materials engineer', 'Python Programmer (Entry-Level)', 'Product/process development scientist', 'Scientist, research (maths)', 'Ecologist', 'Materials engineer', 'Historic buildings inspector/conservation officer', 'Data scientist', 'Psychiatrist', 'Structural engineer', 'Immigration officer', 'Python Programmer (Entry-Level)', 'Neurosurgeon', 'Broadcast engineer', 'Make', 'Nurse, adult', 'Air broker', 'Editor, film/video', 'Production assistant, radio', 'Engineer, communications', 'Sales executive', 'Software Developer (Python)', 'Futures trader', 'Tour manager', 'Cytogeneticist', 'Designer, multimedia', 'Trade union research officer', 'Chemist, analytical', 'Programmer, multimedia', 'Engineer, broadcasting (operations)', 'Teacher, primary school', 'Python Developer', 'Manufacturing systems engineer', 'Producer, television/film/video', 'Scientist, forensic', 'Bonds trader', 'Editorial assistant', 'Photographer', 'Retail banker', 'Jewellery designer', 'Ophthalmologist', 'Back-End Web Developer (Python, Django)', 'Licensed conveyancer', 'Futures trader', 'Counselling psychologist', 'Insurance underwriter', 'Engineer, automotive', 'Producer, radio', 'Dispensing optician', 'Designer, fashion/clothing', 'Chartered loss adjuster', 'Back-End Web Developer (Python, Django)', 'Forest/woodland manager', 'Clinical cytogeneticist', 'Print production planner', 'Systems developer', 'Graphic designer', 'Writer', 'Field seismologist', 'Chief Strategy Officer', 'Air cabin crew', 'Python Programmer (Entry-Level)', 'Warden/ranger', 'Sports therapist', 'Arts development officer', 'Printmaker', 'Health and safety adviser', 'Manufacturing systems engineer', 'Programmer, applications', 'Medical physicist', 'Media planner', 'Software Developer (Python)', 'Surveyor, land/geomatics', 'Legal executive', 'Librarian, academic', 'Barrister', 'Museum/gallery exhibitions officer', 'Radiographer, diagnostic', 'Database administrator', 'Furniture designer', 'Ship broker']\n"
     ]
    }
   ],
   "source": [
    "job_titles = soup.findAll('h2')\n",
    "for index, job in enumerate(job_titles):\n",
    "    job_titles[index] = job.text\n",
    "\n",
    "print(job_titles)\n",
    "\n",
    "#titles_string = ''\n",
    "#for title in job_titles:\n",
    "#    titles_string += f\"'{title.text}'\\n\" \n",
    "#print(titles_string)"
   ]
  },
  {
   "cell_type": "markdown",
   "id": "a1c8b7b7-6206-42b4-ab5c-c133f4ec7f78",
   "metadata": {},
   "source": [
    "### Task 1C - Comapines, Locations, Posting Date -> Lists\n",
    "c. Finally, extract the companies, locations, and posting dates for each job.  \n",
    "For example, the first job has a company of \"Payne, Roberts and Davis\", a location of \"Stewartbury, AA\", and a posting date of \"2021-04-08\".  \n",
    "Ensure that the text that you extract is clean, meaning no extra spaces or other characters at the beginning or end."
   ]
  },
  {
   "cell_type": "code",
   "execution_count": 6,
   "id": "88866ef0-c43c-44dc-a19a-6e74249402b4",
   "metadata": {},
   "outputs": [
    {
     "name": "stdout",
     "output_type": "stream",
     "text": [
      "['Payne, Roberts and Davis', 'Vasquez-Davidson', 'Jackson, Chambers and Levy', 'Savage-Bradley', 'Ramirez Inc', 'Rogers-Yates', 'Kramer-Klein', 'Meyers-Johnson', 'Hughes-Williams', 'Jones, Williams and Villa', 'Garcia PLC', 'Gregory and Sons', 'Clark, Garcia and Sosa', 'Bush PLC', 'Salazar-Meyers', 'Parker, Murphy and Brooks', 'Cruz-Brown', 'Macdonald-Ferguson', 'Williams, Peterson and Rojas', 'Smith and Sons', 'Moss, Duncan and Allen', 'Gomez-Carroll', 'Manning, Welch and Herring', 'Lee, Gutierrez and Brown', 'Davis, Serrano and Cook', 'Smith LLC', 'Thomas Group', 'Silva-King', 'Pierce-Long', 'Walker-Simpson', 'Cooper and Sons', 'Donovan, Gonzalez and Figueroa', 'Morgan, Butler and Bennett', 'Snyder-Lee', 'Harris PLC', 'Washington PLC', 'Brown, Price and Campbell', 'Mcgee PLC', 'Dixon Inc', 'Thompson, Sheppard and Ward', 'Adams-Brewer', 'Schneider-Brady', 'Gonzales-Frank', 'Smith-Wong', 'Pierce-Herrera', 'Aguilar, Rivera and Quinn', 'Lowe, Barnes and Thomas', 'Lewis, Gonzalez and Vasquez', 'Taylor PLC', 'Oliver, Jones and Ramirez', 'Rivera and Sons', 'Garcia PLC', 'Johnson, Wells and Kramer', 'Gonzalez LLC', 'Morgan, White and Macdonald', 'Robinson-Fitzpatrick', 'Waters, Wilson and Hoover', 'Hill LLC', 'Li-Gregory', 'Fisher, Ryan and Coleman', 'Stewart-Alexander', 'Abbott and Sons', 'Bryant, Santana and Davenport', 'Smith PLC', 'Patterson-Singh', 'Martinez-Berry', 'May, Taylor and Fisher', 'Bailey, Owen and Thompson', 'Vasquez Ltd', 'Leblanc LLC', 'Jackson, Ali and Mckee', 'Blankenship, Knight and Powell', 'Patton, Haynes and Jones', 'Wood Inc', 'Collins Group', 'Flores-Nelson', 'Mitchell, Jones and Olson', 'Howard Group', 'Kramer-Edwards', 'Berry-Houston', 'Mathews Inc', 'Riley-Johnson', 'Spencer and Sons', 'Camacho-Sanchez', 'Oliver and Sons', 'Eaton PLC', 'Stanley-Frederick', 'Bradley LLC', 'Parker, Goodwin and Zavala', 'Kim-Miles', 'Moreno-Rodriguez', 'Brown-Ortiz', 'Hartman PLC', 'Brooks Inc', 'Washington-Castillo', 'Nguyen, Yoder and Petty', 'Holder LLC', 'Yates-Ferguson', 'Ortega-Lawrence', 'Fuentes, Walls and Castro']\n"
     ]
    }
   ],
   "source": [
    "companies = soup.findAll('h3')\n",
    "for index, company in enumerate(companies):\n",
    "    companies[index] = company.text.strip()\n",
    "print(companies)\n",
    "\n",
    "#companies_string = '\\n'.join(companies)       ## OR companies_string = '' and the for loop\n",
    "##for comp in companies:\n",
    "##    companies_string += f\"'{comp}'\\n\"\n",
    "#print(companies_string)"
   ]
  },
  {
   "cell_type": "code",
   "execution_count": 7,
   "id": "3001e3fc-76dd-4a03-b5f5-42badf9ff751",
   "metadata": {},
   "outputs": [
    {
     "name": "stdout",
     "output_type": "stream",
     "text": [
      "['Stewartbury, AA', 'Christopherville, AA', 'Port Ericaburgh, AA', 'East Seanview, AP', 'North Jamieview, AP', 'Davidville, AP', 'South Christopher, AE', 'Port Jonathan, AE', 'Osbornetown, AE', 'Scotttown, AP', 'Ericberg, AE', 'Ramireztown, AE', 'Figueroaview, AA', 'Kelseystad, AA', 'Williamsburgh, AE', 'Mitchellburgh, AE', 'West Jessicabury, AA', 'Maloneshire, AE', 'Johnsonton, AA', 'South Davidtown, AP', 'Port Sara, AE', 'Marktown, AA', 'Laurenland, AE', 'Lauraton, AP', 'South Tammyberg, AP', 'North Brandonville, AP', 'Port Robertfurt, AA', 'Burnettbury, AE', 'Herbertside, AA', 'Christopherport, AP', 'West Victor, AE', 'Port Aaron, AP', 'Loribury, AA', 'Angelastad, AP', 'Larrytown, AE', 'West Colin, AP', 'West Stephanie, AP', 'Laurentown, AP', 'Wrightberg, AP', 'Alberttown, AE', 'Brockburgh, AE', 'North Jason, AE', 'Arnoldhaven, AE', 'Lake Destiny, AP', 'South Timothyburgh, AP', 'New Jimmyton, AE', 'New Lucasbury, AP', 'Port Cory, AE', 'Gileston, AA', 'Cindyshire, AA', 'East Michaelfort, AA', 'Joybury, AE', 'Emmatown, AE', 'Colehaven, AP', 'Port Coryton, AE', 'Amyborough, AA', 'Reynoldsville, AA', 'Port Billy, AP', 'Adamburgh, AA', 'Wilsonmouth, AA', 'South Kimberly, AA', 'Benjaminland, AP', 'Zacharyport, AA', 'Port Devonville, AE', 'East Thomas, AE', 'New Jeffrey, AP', 'Davidside, AA', 'Jamesville, AA', 'New Kelly, AP', 'Lake Antonio, AA', 'New Elizabethside, AA', 'Millsbury, AE', 'Lloydton, AP', 'Port Jeremy, AA', 'New Elizabethtown, AA', 'Charlesstad, AE', 'Josephbury, AE', 'Seanfurt, AA', 'Williambury, AA', 'South Jorgeside, AP', 'Robertborough, AP', 'South Saratown, AP', 'Hullview, AA', 'Philipland, AP', 'North Patty, AE', 'North Stephen, AE', 'Stevensland, AP', 'Reyesstad, AE', 'Bellberg, AP', 'North Johnland, AE', 'Martinezburgh, AE', 'Joshuatown, AE', 'West Ericstad, AA', 'Tuckertown, AE', 'Perezton, AE', 'Lake Abigail, AE', 'Jacobshire, AP', 'Port Susan, AE', 'North Tiffany, AA', 'Michelleville, AP']\n"
     ]
    }
   ],
   "source": [
    "locations = soup.findAll('p' , attrs = {'class' : 'location'})\n",
    "\n",
    "for index, place in enumerate(locations):\n",
    "    locations[index] = f\"{place.text.strip()}\"\n",
    "print(locations)\n",
    "\n",
    "#locations_string = ''\n",
    "#for loc in locations:\n",
    "#    locations_string += f\"'{loc}'\\n\"\n",
    "#print(locations_string)"
   ]
  },
  {
   "cell_type": "markdown",
   "id": "b9cb47b4-2436-4173-9039-87eeb2d8835f",
   "metadata": {},
   "source": [
    "#### Task 1.C(iii) - Posting Date"
   ]
  },
  {
   "cell_type": "code",
   "execution_count": 11,
   "id": "6cef0c26-f889-4360-9dc8-fb19816f8421",
   "metadata": {},
   "outputs": [
    {
     "name": "stdout",
     "output_type": "stream",
     "text": [
      "['2021-04-08', '2021-04-08', '2021-04-08', '2021-04-08', '2021-04-08', '2021-04-08', '2021-04-08', '2021-04-08', '2021-04-08', '2021-04-08', '2021-04-08', '2021-04-08', '2021-04-08', '2021-04-08', '2021-04-08', '2021-04-08', '2021-04-08', '2021-04-08', '2021-04-08', '2021-04-08', '2021-04-08', '2021-04-08', '2021-04-08', '2021-04-08', '2021-04-08', '2021-04-08', '2021-04-08', '2021-04-08', '2021-04-08', '2021-04-08', '2021-04-08', '2021-04-08', '2021-04-08', '2021-04-08', '2021-04-08', '2021-04-08', '2021-04-08', '2021-04-08', '2021-04-08', '2021-04-08', '2021-04-08', '2021-04-08', '2021-04-08', '2021-04-08', '2021-04-08', '2021-04-08', '2021-04-08', '2021-04-08', '2021-04-08', '2021-04-08', '2021-04-08', '2021-04-08', '2021-04-08', '2021-04-08', '2021-04-08', '2021-04-08', '2021-04-08', '2021-04-08', '2021-04-08', '2021-04-08', '2021-04-08', '2021-04-08', '2021-04-08', '2021-04-08', '2021-04-08', '2021-04-08', '2021-04-08', '2021-04-08', '2021-04-08', '2021-04-08', '2021-04-08', '2021-04-08', '2021-04-08', '2021-04-08', '2021-04-08', '2021-04-08', '2021-04-08', '2021-04-08', '2021-04-08', '2021-04-08', '2021-04-08', '2021-04-08', '2021-04-08', '2021-04-08', '2021-04-08', '2021-04-08', '2021-04-08', '2021-04-08', '2021-04-08', '2021-04-08', '2021-04-08', '2021-04-08', '2021-04-08', '2021-04-08', '2021-04-08', '2021-04-08', '2021-04-08', '2021-04-08', '2021-04-08', '2021-04-08']\n"
     ]
    }
   ],
   "source": [
    "posting_dates = soup.findAll('time')\n",
    "for index, date in enumerate(posting_dates):\n",
    "    posting_dates[index] = date.text\n",
    "\n",
    "\n",
    "print(posting_dates)"
   ]
  },
  {
   "cell_type": "markdown",
   "id": "c67c7b2b-f644-4d36-883b-8692b60ae982",
   "metadata": {},
   "source": [
    "### Task 1D - Lists -> DataFrame\n",
    "d. Take the lists that you have created and combine them into a pandas DataFrame."
   ]
  },
  {
   "cell_type": "code",
   "execution_count": 12,
   "id": "0470ed29-b612-4002-a69b-ecb41b9f3b7a",
   "metadata": {},
   "outputs": [
    {
     "data": {
      "text/html": [
       "<div>\n",
       "<style scoped>\n",
       "    .dataframe tbody tr th:only-of-type {\n",
       "        vertical-align: middle;\n",
       "    }\n",
       "\n",
       "    .dataframe tbody tr th {\n",
       "        vertical-align: top;\n",
       "    }\n",
       "\n",
       "    .dataframe thead th {\n",
       "        text-align: right;\n",
       "    }\n",
       "</style>\n",
       "<table border=\"1\" class=\"dataframe\">\n",
       "  <thead>\n",
       "    <tr style=\"text-align: right;\">\n",
       "      <th></th>\n",
       "      <th>Job Title</th>\n",
       "      <th>Company</th>\n",
       "      <th>Location</th>\n",
       "      <th>Posting Date</th>\n",
       "    </tr>\n",
       "  </thead>\n",
       "  <tbody>\n",
       "    <tr>\n",
       "      <th>0</th>\n",
       "      <td>Senior Python Developer</td>\n",
       "      <td>Payne, Roberts and Davis</td>\n",
       "      <td>Stewartbury, AA</td>\n",
       "      <td>2021-04-08</td>\n",
       "    </tr>\n",
       "    <tr>\n",
       "      <th>1</th>\n",
       "      <td>Energy engineer</td>\n",
       "      <td>Vasquez-Davidson</td>\n",
       "      <td>Christopherville, AA</td>\n",
       "      <td>2021-04-08</td>\n",
       "    </tr>\n",
       "    <tr>\n",
       "      <th>2</th>\n",
       "      <td>Legal executive</td>\n",
       "      <td>Jackson, Chambers and Levy</td>\n",
       "      <td>Port Ericaburgh, AA</td>\n",
       "      <td>2021-04-08</td>\n",
       "    </tr>\n",
       "    <tr>\n",
       "      <th>3</th>\n",
       "      <td>Fitness centre manager</td>\n",
       "      <td>Savage-Bradley</td>\n",
       "      <td>East Seanview, AP</td>\n",
       "      <td>2021-04-08</td>\n",
       "    </tr>\n",
       "    <tr>\n",
       "      <th>4</th>\n",
       "      <td>Product manager</td>\n",
       "      <td>Ramirez Inc</td>\n",
       "      <td>North Jamieview, AP</td>\n",
       "      <td>2021-04-08</td>\n",
       "    </tr>\n",
       "  </tbody>\n",
       "</table>\n",
       "</div>"
      ],
      "text/plain": [
       "                 Job Title                     Company              Location  \\\n",
       "0  Senior Python Developer    Payne, Roberts and Davis       Stewartbury, AA   \n",
       "1          Energy engineer            Vasquez-Davidson  Christopherville, AA   \n",
       "2          Legal executive  Jackson, Chambers and Levy   Port Ericaburgh, AA   \n",
       "3   Fitness centre manager              Savage-Bradley     East Seanview, AP   \n",
       "4          Product manager                 Ramirez Inc   North Jamieview, AP   \n",
       "\n",
       "  Posting Date  \n",
       "0   2021-04-08  \n",
       "1   2021-04-08  \n",
       "2   2021-04-08  \n",
       "3   2021-04-08  \n",
       "4   2021-04-08  "
      ]
     },
     "execution_count": 12,
     "metadata": {},
     "output_type": "execute_result"
    }
   ],
   "source": [
    "fake_jobs_df = pd.DataFrame({\n",
    "    'Job Title'    : job_titles,\n",
    "    'Company'      : companies,\n",
    "    'Location'     : locations,\n",
    "    'Posting Date' : posting_dates\n",
    "})\n",
    "fake_jobs_df.head()"
   ]
  },
  {
   "cell_type": "markdown",
   "id": "724bc6e6-0561-4450-b2a8-6a4afe05c395",
   "metadata": {},
   "source": [
    "---\n",
    "## Task 2  \n",
    "Next, add a column that contains the url for the \"Apply\" button. Try this in two ways."
   ]
  },
  {
   "cell_type": "code",
   "execution_count": null,
   "id": "d53d39c5-6943-48da-83a9-48f0b131d423",
   "metadata": {},
   "outputs": [],
   "source": []
  },
  {
   "cell_type": "markdown",
   "id": "3654ee02-fddb-429f-8648-528fa1c6d4ce",
   "metadata": {},
   "source": [
    "### Task 2a  \n",
    "First, use the BeautifulSoup find_all method to extract the urls."
   ]
  },
  {
   "cell_type": "code",
   "execution_count": null,
   "id": "b012b405-ec13-49fb-ba96-5c57503cdad7",
   "metadata": {},
   "outputs": [],
   "source": []
  },
  {
   "cell_type": "markdown",
   "id": "af6a257a-7937-4dcb-96a7-b1d9664e2138",
   "metadata": {},
   "source": [
    "### Task 2B\n",
    " Next, get those same urls in a different way. Examine the urls and see if you can spot the pattern of how they are constructed.  \n",
    " Then, build the url using the elements you have already extracted.  \n",
    " Ensure that the urls that you created match those that you extracted using BeautifulSoup.  \n",
    " Warning: You will need to do some string cleaning and prep in constructing the urls this way.  \n",
    " For example, look carefully at the urls for the \"Software Engineer (Python)\" job and the \"Scientist, research (maths)\" job."
   ]
  },
  {
   "cell_type": "code",
   "execution_count": null,
   "id": "d881786e-53f3-43c1-89f4-97694133f2c4",
   "metadata": {},
   "outputs": [],
   "source": []
  },
  {
   "cell_type": "markdown",
   "id": "07693d57-3f88-4dd9-aa2d-1cd6acfa3943",
   "metadata": {},
   "source": [
    "---\n",
    "## Task 3  \n",
    "Finally, we want to get the job description text for each job."
   ]
  },
  {
   "cell_type": "code",
   "execution_count": null,
   "id": "7ecd3f64-f8a2-4ccf-995f-9553060204a3",
   "metadata": {},
   "outputs": [],
   "source": []
  },
  {
   "cell_type": "markdown",
   "id": "f66039f0-c84c-4624-b544-4de03b11c0ef",
   "metadata": {},
   "source": [
    "### Task 3A"
   ]
  },
  {
   "cell_type": "code",
   "execution_count": null,
   "id": "f96a93b6-6427-4c00-a232-b648921a690d",
   "metadata": {},
   "outputs": [],
   "source": []
  },
  {
   "cell_type": "markdown",
   "id": "7824ccde-addc-47f7-a273-0b3bb4afdf07",
   "metadata": {},
   "source": [
    "### Task 3B"
   ]
  },
  {
   "cell_type": "code",
   "execution_count": null,
   "id": "532a6d51-e7d3-4876-a20e-fe0109e10f08",
   "metadata": {},
   "outputs": [],
   "source": []
  },
  {
   "cell_type": "markdown",
   "id": "c8454892-b3d7-4a40-a9bb-964ec470ab0f",
   "metadata": {},
   "source": [
    "### Task 3C"
   ]
  },
  {
   "cell_type": "code",
   "execution_count": null,
   "id": "210f1a37-6c89-46a1-9d70-ce45c67ae5db",
   "metadata": {},
   "outputs": [],
   "source": []
  },
  {
   "cell_type": "code",
   "execution_count": null,
   "id": "e82cf724-0dbc-4869-9110-209548ba99d8",
   "metadata": {},
   "outputs": [],
   "source": []
  }
 ],
 "metadata": {
  "kernelspec": {
   "display_name": "Python [conda env:base] *",
   "language": "python",
   "name": "conda-base-py"
  },
  "language_info": {
   "codemirror_mode": {
    "name": "ipython",
    "version": 3
   },
   "file_extension": ".py",
   "mimetype": "text/x-python",
   "name": "python",
   "nbconvert_exporter": "python",
   "pygments_lexer": "ipython3",
   "version": "3.11.7"
  }
 },
 "nbformat": 4,
 "nbformat_minor": 5
}
