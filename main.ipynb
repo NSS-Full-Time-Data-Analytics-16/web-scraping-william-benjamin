{
 "cells": [
  {
   "cell_type": "code",
   "execution_count": 2,
   "id": "65f56a31-2cf8-4e37-ba3b-73746bb4a692",
   "metadata": {},
   "outputs": [],
   "source": [
    "# header? section\n",
    "\n",
    "import requests\n",
    "from bs4 import BeautifulSoup as BS\n",
    "#import pandas as pd\n",
    "#from io import StringIO"
   ]
  },
  {
   "cell_type": "markdown",
   "id": "c860b801-143c-453c-b266-6dea9afff992",
   "metadata": {},
   "source": [
    "# Webscraping\n",
    "---\n",
    "In this exercise, you'll practice using BeautifulSoup to parse the content of a web page. The page that you'll be scraping, https://realpython.github.io/fake-jobs/, contains job listings. Your job is to extract the data on each job and convert into a pandas DataFrame."
   ]
  },
  {
   "cell_type": "markdown",
   "id": "ab4916df-c48e-43c4-a25c-818c3302aef7",
   "metadata": {},
   "source": [
    "----\n",
    "## Task 1 - GET Request -> BeautifulSoup -> Pandas DataFrame\n",
    "Start by performing a GET request on the url above and convert the response into a BeautifulSoup object."
   ]
  },
  {
   "cell_type": "code",
   "execution_count": null,
   "id": "a5a61273-9273-4f08-ba5f-450c1049739b",
   "metadata": {},
   "outputs": [],
   "source": []
  },
  {
   "cell_type": "markdown",
   "id": "366bbd2a-c9bb-48a0-815a-fd048be253ea",
   "metadata": {},
   "source": [
    "### Task 1A - Find 1st Job Title\n",
    "a. Use the .find method to find the tag containing the first job title (\"Senior Python Developer\").  \n",
    "Hint: can you find a tag type and/or a class that could be helpful for extracting this information? Extract the text from this title."
   ]
  },
  {
   "cell_type": "code",
   "execution_count": null,
   "id": "a75085b6-b44a-47fa-8bf4-27a590f54669",
   "metadata": {},
   "outputs": [],
   "source": []
  },
  {
   "cell_type": "markdown",
   "id": "5ed6cd57-32ca-4631-96b0-587ef1e4f2ce",
   "metadata": {},
   "source": [
    "### Task - 1B All Job Titles -> List\n",
    "b. Now, use what you did for the first title, but extract the job title for all jobs on this page. Store the results in a list."
   ]
  },
  {
   "cell_type": "code",
   "execution_count": null,
   "id": "052de4d3-55ac-4d48-b184-d286f5ee29be",
   "metadata": {},
   "outputs": [],
   "source": []
  },
  {
   "cell_type": "markdown",
   "id": "a1c8b7b7-6206-42b4-ab5c-c133f4ec7f78",
   "metadata": {},
   "source": [
    "### Task 1C - Comapines, Locations, Posting Date -> Lists\n",
    "c. Finally, extract the companies, locations, and posting dates for each job.  \n",
    "For example, the first job has a company of \"Payne, Roberts and Davis\", a location of \"Stewartbury, AA\", and a posting date of \"2021-04-08\".  \n",
    "Ensure that the text that you extract is clean, meaning no extra spaces or other characters at the beginning or end."
   ]
  },
  {
   "cell_type": "code",
   "execution_count": null,
   "id": "88866ef0-c43c-44dc-a19a-6e74249402b4",
   "metadata": {},
   "outputs": [],
   "source": []
  },
  {
   "cell_type": "markdown",
   "id": "c67c7b2b-f644-4d36-883b-8692b60ae982",
   "metadata": {},
   "source": [
    "### Task 1D - Lists -> DataFrame\n",
    "d. Take the lists that you have created and combine them into a pandas DataFrame."
   ]
  },
  {
   "cell_type": "code",
   "execution_count": null,
   "id": "0470ed29-b612-4002-a69b-ecb41b9f3b7a",
   "metadata": {},
   "outputs": [],
   "source": []
  },
  {
   "cell_type": "markdown",
   "id": "724bc6e6-0561-4450-b2a8-6a4afe05c395",
   "metadata": {},
   "source": [
    "---\n",
    "## Task 2  \n",
    "Next, add a column that contains the url for the \"Apply\" button. Try this in two ways."
   ]
  },
  {
   "cell_type": "code",
   "execution_count": null,
   "id": "d53d39c5-6943-48da-83a9-48f0b131d423",
   "metadata": {},
   "outputs": [],
   "source": []
  },
  {
   "cell_type": "markdown",
   "id": "3654ee02-fddb-429f-8648-528fa1c6d4ce",
   "metadata": {},
   "source": [
    "### Task 2a"
   ]
  },
  {
   "cell_type": "code",
   "execution_count": null,
   "id": "b012b405-ec13-49fb-ba96-5c57503cdad7",
   "metadata": {},
   "outputs": [],
   "source": []
  },
  {
   "cell_type": "markdown",
   "id": "af6a257a-7937-4dcb-96a7-b1d9664e2138",
   "metadata": {},
   "source": [
    "### Task 2B"
   ]
  },
  {
   "cell_type": "code",
   "execution_count": null,
   "id": "d881786e-53f3-43c1-89f4-97694133f2c4",
   "metadata": {},
   "outputs": [],
   "source": []
  },
  {
   "cell_type": "markdown",
   "id": "07693d57-3f88-4dd9-aa2d-1cd6acfa3943",
   "metadata": {},
   "source": [
    "---\n",
    "## Task 3  \n",
    "Finally, we want to get the job description text for each job."
   ]
  },
  {
   "cell_type": "code",
   "execution_count": null,
   "id": "7ecd3f64-f8a2-4ccf-995f-9553060204a3",
   "metadata": {},
   "outputs": [],
   "source": []
  },
  {
   "cell_type": "markdown",
   "id": "f66039f0-c84c-4624-b544-4de03b11c0ef",
   "metadata": {},
   "source": [
    "### Task 3A"
   ]
  },
  {
   "cell_type": "code",
   "execution_count": null,
   "id": "f96a93b6-6427-4c00-a232-b648921a690d",
   "metadata": {},
   "outputs": [],
   "source": []
  },
  {
   "cell_type": "markdown",
   "id": "7824ccde-addc-47f7-a273-0b3bb4afdf07",
   "metadata": {},
   "source": [
    "### Task 3B"
   ]
  },
  {
   "cell_type": "code",
   "execution_count": null,
   "id": "532a6d51-e7d3-4876-a20e-fe0109e10f08",
   "metadata": {},
   "outputs": [],
   "source": []
  },
  {
   "cell_type": "markdown",
   "id": "c8454892-b3d7-4a40-a9bb-964ec470ab0f",
   "metadata": {},
   "source": [
    "### Task 3C"
   ]
  },
  {
   "cell_type": "code",
   "execution_count": null,
   "id": "210f1a37-6c89-46a1-9d70-ce45c67ae5db",
   "metadata": {},
   "outputs": [],
   "source": []
  },
  {
   "cell_type": "code",
   "execution_count": null,
   "id": "e82cf724-0dbc-4869-9110-209548ba99d8",
   "metadata": {},
   "outputs": [],
   "source": []
  }
 ],
 "metadata": {
  "kernelspec": {
   "display_name": "Python [conda env:base] *",
   "language": "python",
   "name": "conda-base-py"
  },
  "language_info": {
   "codemirror_mode": {
    "name": "ipython",
    "version": 3
   },
   "file_extension": ".py",
   "mimetype": "text/x-python",
   "name": "python",
   "nbconvert_exporter": "python",
   "pygments_lexer": "ipython3",
   "version": "3.11.7"
  }
 },
 "nbformat": 4,
 "nbformat_minor": 5
}
